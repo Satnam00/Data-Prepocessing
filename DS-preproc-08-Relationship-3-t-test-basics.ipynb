{
 "cells": [
  {
   "cell_type": "code",
   "execution_count": 1,
   "metadata": {},
   "outputs": [],
   "source": [
    "from math import *\n",
    "import operator\n",
    "import pandas as pd\n",
    "import numpy as np\n",
    "\n",
    "import matplotlib\n",
    "import matplotlib.pyplot as plt\n",
    "%matplotlib inline \n",
    "\n",
    "import seaborn as sns\n",
    "sns.set(style=\"white\", color_codes=True)\n",
    "\n",
    "from scipy import stats"
   ]
  },
  {
   "cell_type": "code",
   "execution_count": 2,
   "metadata": {},
   "outputs": [
    {
     "name": "stdout",
     "output_type": "stream",
     "text": [
      "Python: 3.7.3 (default, Mar 27 2019, 17:13:21) [MSC v.1915 64 bit (AMD64)]\n",
      "scipy: 1.2.1\n",
      "numpy: 1.16.2\n",
      "matplotlib: 3.0.3\n",
      "pandas: 0.24.2\n"
     ]
    }
   ],
   "source": [
    "# Python version\n",
    "import sys\n",
    "print('Python: {}'.format(sys.version))\n",
    "# scipy\n",
    "import scipy\n",
    "print('scipy: {}'.format(scipy.__version__))\n",
    "# numpy\n",
    "import numpy\n",
    "print('numpy: {}'.format(numpy.__version__))\n",
    "# matplotlib\n",
    "import matplotlib\n",
    "print('matplotlib: {}'.format(matplotlib.__version__))\n",
    "# pandas\n",
    "import pandas\n",
    "print('pandas: {}'.format(pandas.__version__))"
   ]
  },
  {
   "cell_type": "markdown",
   "metadata": {},
   "source": [
    "# Gaussian distribution\n",
    "\n",
    "- loc   : [float or array_like]Mean of the distribution. \n",
    "\n",
    "- scale : [float or array_like]Standard deviation of the distribution. \n",
    "\n",
    "- size  : [int or int tuples]. \n",
    "\n",
    "Output shape given as (m, n, k) then m*n*k samples are drawn. If size is \n",
    "None(by default), then a single value is returned. "
   ]
  },
  {
   "cell_type": "code",
   "execution_count": 3,
   "metadata": {},
   "outputs": [],
   "source": [
    "N = 100"
   ]
  },
  {
   "cell_type": "code",
   "execution_count": 4,
   "metadata": {},
   "outputs": [
    {
     "data": {
      "text/plain": [
       "(1.9186907844788559, 0.9287773184834665)"
      ]
     },
     "execution_count": 4,
     "metadata": {},
     "output_type": "execute_result"
    }
   ],
   "source": [
    "# Gaussian distributed data with mean = 2 and var = 1\n",
    "mu1, sigma1 = 2, 1\n",
    "N = 100\n",
    "s1 = np.random.normal(mu1, sigma1, N)\n",
    "s1.mean(), s1.std()"
   ]
  },
  {
   "cell_type": "code",
   "execution_count": 5,
   "metadata": {},
   "outputs": [
    {
     "data": {
      "text/plain": [
       "(0.009971036332084716, 0.9360939444842509)"
      ]
     },
     "execution_count": 5,
     "metadata": {},
     "output_type": "execute_result"
    }
   ],
   "source": [
    "# Gaussian distributed data with mean = 0 and var = 1\n",
    "mu2, sigma2 = 0, 1\n",
    "\n",
    "s2 = np.random.normal(mu2, sigma2, N)\n",
    "s2.mean(), s2.std()"
   ]
  },
  {
   "cell_type": "code",
   "execution_count": 6,
   "metadata": {},
   "outputs": [
    {
     "name": "stderr",
     "output_type": "stream",
     "text": [
      "C:\\Users\\Satnam\\Anaconda3\\lib\\site-packages\\matplotlib\\axes\\_axes.py:6521: MatplotlibDeprecationWarning: \n",
      "The 'normed' kwarg was deprecated in Matplotlib 2.1 and will be removed in 3.1. Use 'density' instead.\n",
      "  alternative=\"'density'\", removal=\"3.1\")\n"
     ]
    },
    {
     "data": {
      "image/png": "[encoded data removed]",
      "text/plain": [
       "<Figure size 864x432 with 2 Axes>"
      ]
     },
     "metadata": {
      "needs_background": "light"
     },
     "output_type": "display_data"
    }
   ],
   "source": [
    "fig = plt.figure(figsize=(12, 6))\n",
    "\n",
    "ax1 = fig.add_subplot(121)\n",
    "ax2 = fig.add_subplot(122)\n",
    "\n",
    "# Create the bins and histogram\n",
    "count, bins, ignored = ax1.hist(s1, 20, normed=True)\n",
    "\n",
    "# Plot the distribution curve\n",
    "ax1.plot(bins, \n",
    "         1/(sigma1 * np.sqrt(2 * np.pi)) * np.exp( - (bins - mu1)**2 / (2 * sigma1**2) ), \n",
    "         linewidth=3, \n",
    "         color='y');\n",
    "\n",
    "# Create the bins and histogram\n",
    "count, bins, ignored = ax2.hist(s2, 20, normed=True)\n",
    "\n",
    "# Plot the distribution curve\n",
    "ax2.plot(bins, \n",
    "         1/(sigma2 * np.sqrt(2 * np.pi)) * np.exp( - (bins - mu2)**2 / (2 * sigma2**2) ), \n",
    "         linewidth=3, \n",
    "         color='y');"
   ]
  },
  {
   "cell_type": "code",
   "execution_count": 7,
   "metadata": {},
   "outputs": [],
   "source": [
    "# calculate means\n",
    "mean1, mean2 = np.mean(s1), np.mean(s2)"
   ]
  },
  {
   "cell_type": "code",
   "execution_count": 8,
   "metadata": {},
   "outputs": [],
   "source": [
    "# calculate standard errors\n",
    "se1, se2 = scipy.stats.sem(s1), scipy.stats.sem(s2)"
   ]
  },
  {
   "cell_type": "code",
   "execution_count": 9,
   "metadata": {},
   "outputs": [],
   "source": [
    "# standard error on the difference between the samples\n",
    "sed = sqrt(se1**2.0 + se2**2.0)"
   ]
  },
  {
   "cell_type": "code",
   "execution_count": 10,
   "metadata": {},
   "outputs": [
    {
     "data": {
      "text/plain": [
       "12.814005825555117"
      ]
     },
     "execution_count": 10,
     "metadata": {},
     "output_type": "execute_result"
    }
   ],
   "source": [
    "# calculate the t statistic\n",
    "t_stat = (mean1 - mean2) / sed\n",
    "t_stat"
   ]
  },
  {
   "cell_type": "code",
   "execution_count": 11,
   "metadata": {},
   "outputs": [
    {
     "data": {
      "text/plain": [
       "198"
      ]
     },
     "execution_count": 11,
     "metadata": {},
     "output_type": "execute_result"
    }
   ],
   "source": [
    "# degrees of freedom\n",
    "degree_freedom = len(s1) + len(s2) - 2\n",
    "degree_freedom"
   ]
  },
  {
   "cell_type": "code",
   "execution_count": 12,
   "metadata": {},
   "outputs": [
    {
     "data": {
      "text/plain": [
       "1.6525857836172075"
      ]
     },
     "execution_count": 12,
     "metadata": {},
     "output_type": "execute_result"
    }
   ],
   "source": [
    "# calculate the critical value\n",
    "alpha = 0.05\n",
    "cv = scipy.stats.t.ppf(1.0 - alpha, degree_freedom)\n",
    "cv"
   ]
  },
  {
   "cell_type": "code",
   "execution_count": 13,
   "metadata": {},
   "outputs": [
    {
     "data": {
      "text/plain": [
       "0.0"
      ]
     },
     "execution_count": 13,
     "metadata": {},
     "output_type": "execute_result"
    }
   ],
   "source": [
    "# calculate the p-value\n",
    "p = (1.0 - scipy.stats.t.cdf(abs(t_stat), degree_freedom)) * 2.0\n",
    "p"
   ]
  },
  {
   "cell_type": "code",
   "execution_count": 14,
   "metadata": {},
   "outputs": [
    {
     "name": "stdout",
     "output_type": "stream",
     "text": [
      "t=    12.81400583, p=     0.00000000\n",
      "CV      : Reject the null hypothesis --> the means are NOT equal.\n",
      "p-value : Reject the null hypothesis --> the means are NOT equal.\n"
     ]
    }
   ],
   "source": [
    "# compare samples\n",
    "print('t=%15.8f, p=%15.8f' % (t_stat, p))\n",
    "\n",
    "# interpret via critical value\n",
    "if abs(t_stat) <= cv:\n",
    "    print('CV      : Accept null hypothesis --> the means are equal.')\n",
    "else:\n",
    "    print('CV      : Reject the null hypothesis --> the means are NOT equal.')\n",
    "    \n",
    "# interpret via p-value\n",
    "if p > alpha:\n",
    "    print('p-value : Accept null hypothesis --> the means are equal.')\n",
    "else:\n",
    "    print('p-value : Reject the null hypothesis --> the means are NOT equal.')"
   ]
  },
  {
   "cell_type": "markdown",
   "metadata": {},
   "source": [
    "### using scipy"
   ]
  },
  {
   "cell_type": "code",
   "execution_count": 15,
   "metadata": {},
   "outputs": [
    {
     "data": {
      "text/plain": [
       "Ttest_indResult(statistic=12.814005825555117, pvalue=9.044274246693416e-28)"
      ]
     },
     "execution_count": 15,
     "metadata": {},
     "output_type": "execute_result"
    }
   ],
   "source": [
    "stats.ttest_ind(s1, s2)"
   ]
  },
  {
   "cell_type": "code",
   "execution_count": null,
   "metadata": {
    "collapsed": true
   },
   "outputs": [],
   "source": []
  }
 ],
 "metadata": {
  "kernelspec": {
   "display_name": "Python 3",
   "language": "python",
   "name": "python3"
  },
  "language_info": {
   "codemirror_mode": {
    "name": "ipython",
    "version": 3
   },
   "file_extension": ".py",
   "mimetype": "text/x-python",
   "name": "python",
   "nbconvert_exporter": "python",
   "pygments_lexer": "ipython3",
   "version": "3.7.3"
  }
 },
 "nbformat": 4,
 "nbformat_minor": 2
}
