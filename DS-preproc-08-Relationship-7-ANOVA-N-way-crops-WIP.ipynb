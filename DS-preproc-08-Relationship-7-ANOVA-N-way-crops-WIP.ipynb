{
 "cells": [
  {
   "cell_type": "code",
   "execution_count": 1,
   "metadata": {},
   "outputs": [],
   "source": [
    "import pandas\n",
    "import researchpy as rp\n",
    "import seaborn as sns\n",
    "\n",
    "import statsmodels.api as sm\n",
    "from statsmodels.formula.api import ols\n",
    "import statsmodels.stats.multicomp\n"
   ]
  },
  {
   "cell_type": "code",
   "execution_count": 2,
   "metadata": {},
   "outputs": [
    {
     "name": "stdout",
     "output_type": "stream",
     "text": [
      "Python: 3.7.3 (default, Mar 27 2019, 17:13:21) [MSC v.1915 64 bit (AMD64)]\n",
      "scipy: 1.2.1\n",
      "numpy: 1.16.2\n",
      "matplotlib: 3.0.3\n",
      "pandas: 0.24.2\n"
     ]
    }
   ],
   "source": [
    "# Python version\n",
    "import sys\n",
    "print('Python: {}'.format(sys.version))\n",
    "# scipy\n",
    "import scipy\n",
    "print('scipy: {}'.format(scipy.__version__))\n",
    "# numpy\n",
    "import numpy\n",
    "print('numpy: {}'.format(numpy.__version__))\n",
    "# matplotlib\n",
    "import matplotlib\n",
    "print('matplotlib: {}'.format(matplotlib.__version__))\n",
    "# pandas\n",
    "import pandas\n",
    "print('pandas: {}'.format(pandas.__version__))"
   ]
  },
  {
   "cell_type": "markdown",
   "metadata": {},
   "source": [
    "- imagine a study where there are 2 IVs that each have 2 levels (groups/categories) and a continuous DV (outcome). \n",
    "\n",
    "- We have independent variable A with 2 levels (A1 and A2), independent variable B with 2 levels (B1 and B2) and our DV which is most commonly annotated as Y. \n",
    "\n",
    "- We want to see the effects of A on Y, B on Y, and to test if there is an interaction effect of A and B on Y. \n",
    "\n",
    "- With this design, the following hypotheses are being tested:\n",
    "\n",
    "    Factor A x Factor B interactions:\n",
    "        H0 : there is not interaction\n",
    "        Ha : there is an interaction\n",
    "\n",
    "    Main effect of factor A:\n",
    "        H0 : ?1 = ?2\n",
    "        Ha : Not all of the means (?) are equal\n",
    "\n",
    "    Main effect of factor B:\n",
    "        H0 : ?1 = ?2\n",
    "        Ha : Not all of the means (?) are equal"
   ]
  },
  {
   "cell_type": "code",
   "execution_count": 5,
   "metadata": {
    "collapsed": true
   },
   "outputs": [],
   "source": [
    "df = pandas.read_csv(\"https://raw.githubusercontent.com/Opensourcefordatascience/Data-sets/master/crop_yield.csv\")"
   ]
  },
  {
   "cell_type": "code",
   "execution_count": 6,
   "metadata": {},
   "outputs": [
    {
     "data": {
      "text/plain": [
       "(20, 3)"
      ]
     },
     "execution_count": 6,
     "metadata": {},
     "output_type": "execute_result"
    }
   ],
   "source": [
    "df.shape"
   ]
  },
  {
   "cell_type": "code",
   "execution_count": 7,
   "metadata": {},
   "outputs": [
    {
     "data": {
      "text/html": [
       "<div>\n",
       "<style>\n",
       "    .dataframe thead tr:only-child th {\n",
       "        text-align: right;\n",
       "    }\n",
       "\n",
       "    .dataframe thead th {\n",
       "        text-align: left;\n",
       "    }\n",
       "\n",
       "    .dataframe tbody tr th {\n",
       "        vertical-align: top;\n",
       "    }\n",
       "</style>\n",
       "<table border=\"1\" class=\"dataframe\">\n",
       "  <thead>\n",
       "    <tr style=\"text-align: right;\">\n",
       "      <th></th>\n",
       "      <th>Fert</th>\n",
       "      <th>Water</th>\n",
       "      <th>Yield</th>\n",
       "    </tr>\n",
       "  </thead>\n",
       "  <tbody>\n",
       "    <tr>\n",
       "      <th>0</th>\n",
       "      <td>A</td>\n",
       "      <td>High</td>\n",
       "      <td>27.4</td>\n",
       "    </tr>\n",
       "    <tr>\n",
       "      <th>1</th>\n",
       "      <td>A</td>\n",
       "      <td>High</td>\n",
       "      <td>33.6</td>\n",
       "    </tr>\n",
       "    <tr>\n",
       "      <th>2</th>\n",
       "      <td>A</td>\n",
       "      <td>High</td>\n",
       "      <td>29.8</td>\n",
       "    </tr>\n",
       "    <tr>\n",
       "      <th>3</th>\n",
       "      <td>A</td>\n",
       "      <td>High</td>\n",
       "      <td>35.2</td>\n",
       "    </tr>\n",
       "    <tr>\n",
       "      <th>4</th>\n",
       "      <td>A</td>\n",
       "      <td>High</td>\n",
       "      <td>33.0</td>\n",
       "    </tr>\n",
       "  </tbody>\n",
       "</table>\n",
       "</div>"
      ],
      "text/plain": [
       "  Fert Water  Yield\n",
       "0    A  High   27.4\n",
       "1    A  High   33.6\n",
       "2    A  High   29.8\n",
       "3    A  High   35.2\n",
       "4    A  High   33.0"
      ]
     },
     "execution_count": 7,
     "metadata": {},
     "output_type": "execute_result"
    }
   ],
   "source": [
    "df.head()"
   ]
  },
  {
   "cell_type": "code",
   "execution_count": 8,
   "metadata": {},
   "outputs": [
    {
     "name": "stdout",
     "output_type": "stream",
     "text": [
      "\n",
      "\n"
     ]
    },
    {
     "data": {
      "text/html": [
       "<div>\n",
       "<style>\n",
       "    .dataframe thead tr:only-child th {\n",
       "        text-align: right;\n",
       "    }\n",
       "\n",
       "    .dataframe thead th {\n",
       "        text-align: left;\n",
       "    }\n",
       "\n",
       "    .dataframe tbody tr th {\n",
       "        vertical-align: top;\n",
       "    }\n",
       "</style>\n",
       "<table border=\"1\" class=\"dataframe\">\n",
       "  <thead>\n",
       "    <tr style=\"text-align: right;\">\n",
       "      <th></th>\n",
       "      <th>Variable</th>\n",
       "      <th>N</th>\n",
       "      <th>Mean</th>\n",
       "      <th>SD</th>\n",
       "      <th>SE</th>\n",
       "      <th>95% Conf.</th>\n",
       "      <th>Interval</th>\n",
       "    </tr>\n",
       "  </thead>\n",
       "  <tbody>\n",
       "    <tr>\n",
       "      <th>0</th>\n",
       "      <td>Yield</td>\n",
       "      <td>20.0</td>\n",
       "      <td>29.04</td>\n",
       "      <td>4.230516</td>\n",
       "      <td>0.945972</td>\n",
       "      <td>27.060058</td>\n",
       "      <td>31.019942</td>\n",
       "    </tr>\n",
       "  </tbody>\n",
       "</table>\n",
       "</div>"
      ],
      "text/plain": [
       "  Variable     N   Mean        SD        SE  95% Conf.   Interval\n",
       "0    Yield  20.0  29.04  4.230516  0.945972  27.060058  31.019942"
      ]
     },
     "execution_count": 8,
     "metadata": {},
     "output_type": "execute_result"
    }
   ],
   "source": [
    "rp.summary_cont(df['Yield'])"
   ]
  },
  {
   "cell_type": "code",
   "execution_count": 9,
   "metadata": {},
   "outputs": [
    {
     "data": {
      "text/plain": [
       "count    20.000000\n",
       "mean     29.040000\n",
       "std       4.230516\n",
       "min      19.400000\n",
       "25%      26.400000\n",
       "50%      29.600000\n",
       "75%      32.400000\n",
       "max      35.200000\n",
       "Name: Yield, dtype: float64"
      ]
     },
     "execution_count": 9,
     "metadata": {},
     "output_type": "execute_result"
    }
   ],
   "source": [
    "df['Yield'].describe()"
   ]
  },
  {
   "cell_type": "code",
   "execution_count": 22,
   "metadata": {},
   "outputs": [
    {
     "data": {
      "text/plain": [
       "{'A': Int64Index([0, 1, 2, 3, 4, 10, 11, 12, 13, 14], dtype='int64'),\n",
       " 'B': Int64Index([5, 6, 7, 8, 9, 15, 16, 17, 18, 19], dtype='int64')}"
      ]
     },
     "execution_count": 22,
     "metadata": {},
     "output_type": "execute_result"
    }
   ],
   "source": [
    "groups = df.groupby(['Fert'])['Yield']\n",
    "groups.groups"
   ]
  },
  {
   "cell_type": "code",
   "execution_count": 10,
   "metadata": {},
   "outputs": [
    {
     "ename": "AttributeError",
     "evalue": "'function' object has no attribute 'DataFrameGroupBy'",
     "output_type": "error",
     "traceback": [
      "\u001b[1;31m---------------------------------------------------------------------------\u001b[0m",
      "\u001b[1;31mAttributeError\u001b[0m                            Traceback (most recent call last)",
      "\u001b[1;32m<ipython-input-10-a499f27f7cd9>\u001b[0m in \u001b[0;36m<module>\u001b[1;34m()\u001b[0m\n\u001b[1;32m----> 1\u001b[1;33m \u001b[0mrp\u001b[0m\u001b[1;33m.\u001b[0m\u001b[0msummary_cont\u001b[0m\u001b[1;33m(\u001b[0m\u001b[0mdf\u001b[0m\u001b[1;33m.\u001b[0m\u001b[0mgroupby\u001b[0m\u001b[1;33m(\u001b[0m\u001b[1;33m[\u001b[0m\u001b[1;34m'Fert'\u001b[0m\u001b[1;33m]\u001b[0m\u001b[1;33m)\u001b[0m\u001b[1;33m)\u001b[0m\u001b[1;33m[\u001b[0m\u001b[1;34m'Yield'\u001b[0m\u001b[1;33m]\u001b[0m\u001b[1;33m\u001b[0m\u001b[0m\n\u001b[0m",
      "\u001b[1;32mC:\\Anaconda3\\lib\\site-packages\\researchpy\\summary.py\u001b[0m in \u001b[0;36msummary_cont\u001b[1;34m(group1)\u001b[0m\n\u001b[0;32m    147\u001b[0m \u001b[1;33m\u001b[0m\u001b[0m\n\u001b[0;32m    148\u001b[0m \u001b[1;33m\u001b[0m\u001b[0m\n\u001b[1;32m--> 149\u001b[1;33m     \u001b[1;32melif\u001b[0m \u001b[0mtype\u001b[0m\u001b[1;33m(\u001b[0m\u001b[0mgroup1\u001b[0m\u001b[1;33m)\u001b[0m \u001b[1;33m==\u001b[0m \u001b[0mpandas\u001b[0m\u001b[1;33m.\u001b[0m\u001b[0mcore\u001b[0m\u001b[1;33m.\u001b[0m\u001b[0mgroupby\u001b[0m\u001b[1;33m.\u001b[0m\u001b[0mgroupby\u001b[0m\u001b[1;33m.\u001b[0m\u001b[0mDataFrameGroupBy\u001b[0m \u001b[1;33m:\u001b[0m\u001b[1;33m\u001b[0m\u001b[0m\n\u001b[0m\u001b[0;32m    150\u001b[0m \u001b[1;33m\u001b[0m\u001b[0m\n\u001b[0;32m    151\u001b[0m         \u001b[0ml_ci\u001b[0m \u001b[1;33m=\u001b[0m \u001b[1;32mlambda\u001b[0m \u001b[0mx\u001b[0m\u001b[1;33m:\u001b[0m \u001b[0mnumpy\u001b[0m\u001b[1;33m.\u001b[0m\u001b[0mmean\u001b[0m\u001b[1;33m(\u001b[0m\u001b[0mx\u001b[0m\u001b[1;33m)\u001b[0m \u001b[1;33m-\u001b[0m \u001b[1;33m(\u001b[0m\u001b[1;36m1.960\u001b[0m \u001b[1;33m*\u001b[0m \u001b[1;33m(\u001b[0m\u001b[0mnumpy\u001b[0m\u001b[1;33m.\u001b[0m\u001b[0mstd\u001b[0m\u001b[1;33m(\u001b[0m\u001b[0mx\u001b[0m\u001b[1;33m)\u001b[0m\u001b[1;33m/\u001b[0m\u001b[0mnumpy\u001b[0m\u001b[1;33m.\u001b[0m\u001b[0msqrt\u001b[0m\u001b[1;33m(\u001b[0m\u001b[0mx\u001b[0m\u001b[1;33m.\u001b[0m\u001b[0mcount\u001b[0m\u001b[1;33m(\u001b[0m\u001b[1;33m)\u001b[0m \u001b[1;33m-\u001b[0m \u001b[1;36m1\u001b[0m\u001b[1;33m)\u001b[0m\u001b[1;33m)\u001b[0m\u001b[1;33m)\u001b[0m\u001b[1;33m\u001b[0m\u001b[0m\n",
      "\u001b[1;31mAttributeError\u001b[0m: 'function' object has no attribute 'DataFrameGroupBy'"
     ]
    }
   ],
   "source": [
    "rp.summary_cont(df.groupby(['Fert']))['Yield']"
   ]
  },
  {
   "cell_type": "code",
   "execution_count": null,
   "metadata": {
    "collapsed": true
   },
   "outputs": [],
   "source": []
  },
  {
   "cell_type": "code",
   "execution_count": 20,
   "metadata": {},
   "outputs": [
    {
     "data": {
      "text/plain": [
       "Brooklyn         121\n",
       "Bronx            118\n",
       "Manhattan        106\n",
       "Queens            80\n",
       "Staten Island     10\n",
       "Name: Borough, dtype: int64"
      ]
     },
     "execution_count": 20,
     "metadata": {},
     "output_type": "execute_result"
    }
   ],
   "source": [
    "data['Borough'].value_counts()"
   ]
  },
  {
   "cell_type": "markdown",
   "metadata": {},
   "source": [
    "Creating New Columns\n",
    "There is no total score column, so we'll have to create it. In addition, we'll have to find the mean score of the each district across all schools."
   ]
  },
  {
   "cell_type": "code",
   "execution_count": 21,
   "metadata": {},
   "outputs": [
    {
     "data": {
      "text/html": [
       "<div>\n",
       "<style>\n",
       "    .dataframe thead tr:only-child th {\n",
       "        text-align: right;\n",
       "    }\n",
       "\n",
       "    .dataframe thead th {\n",
       "        text-align: left;\n",
       "    }\n",
       "\n",
       "    .dataframe tbody tr th {\n",
       "        vertical-align: top;\n",
       "    }\n",
       "</style>\n",
       "<table border=\"1\" class=\"dataframe\">\n",
       "  <thead>\n",
       "    <tr style=\"text-align: right;\">\n",
       "      <th></th>\n",
       "      <th>Borough</th>\n",
       "      <th>total_score</th>\n",
       "    </tr>\n",
       "  </thead>\n",
       "  <tbody>\n",
       "    <tr>\n",
       "      <th>2</th>\n",
       "      <td>Manhattan</td>\n",
       "      <td>1859.0</td>\n",
       "    </tr>\n",
       "    <tr>\n",
       "      <th>3</th>\n",
       "      <td>Manhattan</td>\n",
       "      <td>1193.0</td>\n",
       "    </tr>\n",
       "    <tr>\n",
       "      <th>4</th>\n",
       "      <td>Manhattan</td>\n",
       "      <td>1261.0</td>\n",
       "    </tr>\n",
       "    <tr>\n",
       "      <th>5</th>\n",
       "      <td>Manhattan</td>\n",
       "      <td>1529.0</td>\n",
       "    </tr>\n",
       "    <tr>\n",
       "      <th>6</th>\n",
       "      <td>Manhattan</td>\n",
       "      <td>1197.0</td>\n",
       "    </tr>\n",
       "  </tbody>\n",
       "</table>\n",
       "</div>"
      ],
      "text/plain": [
       "     Borough  total_score\n",
       "2  Manhattan       1859.0\n",
       "3  Manhattan       1193.0\n",
       "4  Manhattan       1261.0\n",
       "5  Manhattan       1529.0\n",
       "6  Manhattan       1197.0"
      ]
     },
     "execution_count": 21,
     "metadata": {},
     "output_type": "execute_result"
    }
   ],
   "source": [
    "data['total_score'] = data['Average Score (SAT Reading)'] +  \\\n",
    "                      data['Average Score (SAT Math)']    +  \\\n",
    "                      data['Average Score (SAT Writing)']\n",
    "        \n",
    "data = data[['Borough', 'total_score']].dropna()   \n",
    "\n",
    "data.head()"
   ]
  },
  {
   "cell_type": "code",
   "execution_count": 26,
   "metadata": {},
   "outputs": [
    {
     "data": {
      "text/plain": [
       "117    1164.0\n",
       "118    1227.0\n",
       "119    1202.0\n",
       "120    1100.0\n",
       "121    1203.0\n",
       "122    1142.0\n",
       "123    1124.0\n",
       "124    1134.0\n",
       "126    1053.0\n",
       "128    1227.0\n",
       "129     995.0\n",
       "131    1349.0\n",
       "133    1290.0\n",
       "134    1119.0\n",
       "135    1160.0\n",
       "136    1005.0\n",
       "138    1130.0\n",
       "139    1466.0\n",
       "140    1246.0\n",
       "141    1188.0\n",
       "142    1138.0\n",
       "143    1145.0\n",
       "144    1182.0\n",
       "145    1159.0\n",
       "147    1285.0\n",
       "148    1178.0\n",
       "149    1214.0\n",
       "152    1121.0\n",
       "153    1141.0\n",
       "154    1278.0\n",
       "        ...  \n",
       "200    1224.0\n",
       "201    1242.0\n",
       "202    1102.0\n",
       "203    2041.0\n",
       "204     987.0\n",
       "205    1223.0\n",
       "207    1276.0\n",
       "208    2013.0\n",
       "209    1314.0\n",
       "210    1156.0\n",
       "212    1248.0\n",
       "213    1278.0\n",
       "214    1016.0\n",
       "215    1407.0\n",
       "216    1286.0\n",
       "217     924.0\n",
       "218    1327.0\n",
       "219    1066.0\n",
       "220    1266.0\n",
       "221    1294.0\n",
       "222    1062.0\n",
       "223    1204.0\n",
       "224    1115.0\n",
       "225    1251.0\n",
       "227    1161.0\n",
       "228    1165.0\n",
       "230    1210.0\n",
       "231    1273.0\n",
       "232    1255.0\n",
       "233    1192.0\n",
       "Name: total_score, Length: 98, dtype: float64"
      ]
     },
     "execution_count": 26,
     "metadata": {},
     "output_type": "execute_result"
    }
   ],
   "source": [
    "data[data['Borough'] == 'Bronx']['total_score']"
   ]
  },
  {
   "cell_type": "code",
   "execution_count": 27,
   "metadata": {
    "collapsed": true
   },
   "outputs": [],
   "source": [
    "x = ['Brooklyn', 'Bronx', 'Manhattan', 'Queens', 'Staten Island']\n",
    "\n",
    "district_dict = {}\n",
    "\n",
    "# Assigns each test score series to a dictionary key\n",
    "for district in x:\n",
    "    district_dict[district] = data[data['Borough'] == district]['total_score']\n"
   ]
  },
  {
   "cell_type": "code",
   "execution_count": 28,
   "metadata": {},
   "outputs": [
    {
     "name": "stdout",
     "output_type": "stream",
     "text": [
      "Brooklyn_std : 154.8684270520867\n",
      "Bronx_std : 150.39390071890668\n",
      "Manhattan_std : 230.2941395363782\n",
      "Queens_std : 195.25289850192115\n",
      "Staten Island_std : 222.30359621222706\n"
     ]
    },
    {
     "data": {
      "text/plain": [
       "Text(0,0.5,'Average Total SAT Score')"
      ]
     },
     "execution_count": 28,
     "metadata": {},
     "output_type": "execute_result"
    },
    {
     "data": {
      "image/png": "[encoded data removed]",
      "text/plain": [
       "<matplotlib.figure.Figure at 0x142903c64a8>"
      ]
     },
     "metadata": {},
     "output_type": "display_data"
    }
   ],
   "source": [
    "y = []\n",
    "yerror = []\n",
    "\n",
    "# Assigns the mean score and 95% confidence limit to each district\n",
    "for district in x:\n",
    "    y.append(district_dict[district].mean())\n",
    "    \n",
    "    yerror.append(1.96 * district_dict[district].std()/np.sqrt(district_dict[district].shape[0]))    \n",
    "    \n",
    "    print(district + '_std : {}'.format(district_dict[district].std()))\n",
    "    \n",
    "sns.set(font_scale=1.8)\n",
    "fig = plt.figure(figsize=(10,5))\n",
    "ax = sns.barplot(x, y, yerr=yerror)\n",
    "ax.set_ylabel('Average Total SAT Score')"
   ]
  },
  {
   "cell_type": "markdown",
   "metadata": {},
   "source": [
    "- average SAT scores are quite different for each district. \n",
    "- We are interested in knowing if this is caused by random variation in data, or if there is an underlying cause. \n",
    "- Since we have 5 different groups, we cannot use the t-test. \n",
    "- Also note that the standard deviation of each group are also very different, so we've violated one of our assumpions. \n",
    "- we are going to use the 1-way ANOVA test\n",
    "\n",
    "__The Null hypothesis:-__\n",
    "There are no significant differences between the groups' mean SAT scores.\n",
    "$ H_0 : μ1=μ2=μ3=μ4=μ5$ \n",
    "\n",
    "\n",
    "__and Alternative Hypothesis :-__\n",
    "There is a significant difference between the groups' mean SAT scores.\n",
    "$H_A : μi≠μj$\n",
    "\n",
    "Where μi and μj can be the mean of any group. \n",
    "\n",
    "If there is at least one group with a significant difference with another group, the null hypothesis will be rejected.\n",
    "\n",
    "#### 1-way ANOVA\n",
    "Similar to the t-test, we can calculate a score for the ANOVA. Then we can look up the score in the F-distribution and obtain a p-value.\n",
    "\n",
    "_This is quite a lot of math, fortunately scipy has a function that plugs in all the values for us._ "
   ]
  },
  {
   "cell_type": "code",
   "execution_count": 32,
   "metadata": {},
   "outputs": [
    {
     "data": {
      "text/plain": [
       "F_onewayResult(statistic=12.733085029201668, pvalue=1.0161974965566023e-09)"
      ]
     },
     "execution_count": 32,
     "metadata": {},
     "output_type": "execute_result"
    }
   ],
   "source": [
    "stats.f_oneway(\n",
    "             district_dict['Brooklyn'], district_dict['Bronx'], \\\n",
    "             district_dict['Manhattan'], district_dict['Queens'], \\\n",
    "             district_dict['Staten Island']\n",
    ")"
   ]
  },
  {
   "cell_type": "markdown",
   "metadata": {},
   "source": [
    "The resulting pvalue was less than 0.05. We can reject the null hypothesis and conclude that there is a significant difference between the SAT scores for each district. "
   ]
  },
  {
   "cell_type": "code",
   "execution_count": null,
   "metadata": {
    "collapsed": true
   },
   "outputs": [],
   "source": []
  }
 ],
 "metadata": {
  "kernelspec": {
   "display_name": "Python 3",
   "language": "python",
   "name": "python3"
  },
  "language_info": {
   "codemirror_mode": {
    "name": "ipython",
    "version": 3
   },
   "file_extension": ".py",
   "mimetype": "text/x-python",
   "name": "python",
   "nbconvert_exporter": "python",
   "pygments_lexer": "ipython3",
   "version": "3.7.3"
  }
 },
 "nbformat": 4,
 "nbformat_minor": 2
}
