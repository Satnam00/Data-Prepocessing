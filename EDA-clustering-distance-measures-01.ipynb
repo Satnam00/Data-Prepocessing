{
 "cells": [
  {
   "cell_type": "markdown",
   "metadata": {},
   "source": [
    "# Numeric distance measures\n",
    "#### Euclidean\n",
    "\n",
    "$ d_{p, q} = \\sqrt {\\sum_{i=1}^{n} (p_i - q_i)^2} $"
   ]
  },
  {
   "attachments": {
    "image.png": {
     "image/png": "[encoded data removed]"
    }
   },
   "cell_type": "markdown",
   "metadata": {},
   "source": [
    "\n",
    "![image.png](attachment:image.png)"
   ]
  },
  {
   "cell_type": "markdown",
   "metadata": {},
   "source": [
    "#### Square Euclidean\n",
    "\n",
    "$ d_{p, q} = {\\sum_{i=1}^{n} (p_i - q_i)^2} $"
   ]
  },
  {
   "cell_type": "markdown",
   "metadata": {},
   "source": [
    "#### Manhattan\n",
    "\n",
    "$ d_{p, q} = \\sum_{i=1}^{n} |p_i - q_i| $\n",
    "\n"
   ]
  },
  {
   "cell_type": "markdown",
   "metadata": {},
   "source": [
    "#### Maximum\n",
    "\n",
    "$ d_{p, q} = \\max |p_i - q_i| $\n"
   ]
  },
  {
   "cell_type": "markdown",
   "metadata": {},
   "source": [
    "#### Minkowski\n",
    "\n",
    "$ d_{p, q} = \\sqrt[\\lambda] {\\sum_{i=1}^{n} (p_i - q_i)^\\lambda} $"
   ]
  },
  {
   "cell_type": "markdown",
   "metadata": {},
   "source": [
    "# Binary distance measures\n",
    "\n",
    "#### Simple matching\n",
    "\n",
    "$ S_{p,q} = \\frac{a + d}{a + b + c + d} $\n",
    "\n",
    "$ d_{p,q} = 1 - \\frac{a + d}{a + b + c + d} $\n",
    "\n",
    "#### Jaccard\n",
    "\n",
    "$ S_{p,q} = \\frac{a }{a + b + c } $\n",
    "\n",
    "$ d_{p,q} = 1 - \\frac{a }{a + b + c } $\n",
    "\n",
    "#### Russell and Rao\n",
    "\n",
    "$ S_{p,q} = \\frac{a }{a + b + c +d} $\n",
    "\n",
    "$ d_{p,q} = 1 - \\frac{a }{a + b + c + d} $\n",
    "\n",
    "#### Dice\n",
    "\n",
    "$ S_{p,q} = \\frac{2a }{2a + b + c} $\n",
    "\n",
    "$ d_{p,q} = 1 - \\frac{2a }{2a + b + c } $\n",
    "\n",
    "\n",
    "#### Rogers and Tanimoto\n",
    "\n",
    "$ S_{p,q} = \\frac{a + d }{a + 2(b + c} + d $\n",
    "\n",
    "$ d_{p,q} = 1 - \\frac{a + d }{a + 2(b + c) + d } $"
   ]
  },
  {
   "cell_type": "markdown",
   "metadata": {},
   "source": [
    "# Mixed variables\n",
    "\n",
    "#### Gower\n",
    "\n",
    "$ d_{A, B} = \\sqrt[] \\frac{{\\sum_{i=1}^{n} w_id_i^2}}{\\sum_{i=1}^{n} w_i} $\n",
    "\n",
    "$ d_i = \\frac{|A_i - B_i|}{R_i} $"
   ]
  },
  {
   "cell_type": "markdown",
   "metadata": {},
   "source": [
    "# Other measures\n",
    "\n",
    "#### Mahalanobis\n",
    "\n",
    "$ d_{A, B} = \\sqrt[] {(A - B)S^{-1}(A - B)^T }$\n",
    "\n",
    "#### Correlation coefficient\n",
    "\n",
    "$ r =  \\frac{\\sum_{i=1}^{n} (x_i - \\bar{x})(y_i - \\bar{y})}{(n - 1) s_xs_y} $\n",
    "\n",
    "#### Cosine\n",
    "\n",
    "$ r =  \\frac{\\sum_{i=1}^{n} (A_iB_i)}{\\sqrt[]{\\sum_{i=1}A_i^2 \\sum_{i=1}^{n}B_i^2}} $"
   ]
  },
  {
   "cell_type": "code",
   "execution_count": null,
   "metadata": {
    "collapsed": true
   },
   "outputs": [],
   "source": []
  }
 ],
 "metadata": {
  "kernelspec": {
   "display_name": "Python 3",
   "language": "python",
   "name": "python3"
  },
  "language_info": {
   "codemirror_mode": {
    "name": "ipython",
    "version": 3
   },
   "file_extension": ".py",
   "mimetype": "text/x-python",
   "name": "python",
   "nbconvert_exporter": "python",
   "pygments_lexer": "ipython3",
   "version": "3.7.3"
  }
 },
 "nbformat": 4,
 "nbformat_minor": 2
}
